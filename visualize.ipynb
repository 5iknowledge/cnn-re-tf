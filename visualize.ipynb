{
 "cells": [
  {
   "cell_type": "markdown",
   "metadata": {},
   "source": [
    "# Visualize the results"
   ]
  },
  {
   "cell_type": "code",
   "execution_count": 1,
   "metadata": {
    "collapsed": true
   },
   "outputs": [],
   "source": [
    "import pandas as pd\n",
    "import numpy as np\n",
    "import tensorflow as tf\n",
    "\n",
    "import os, re\n",
    "import util\n",
    "\n",
    "from sklearn.manifold import TSNE\n",
    "\n",
    "import matplotlib.pyplot as plt\n",
    "plt.style.use('ggplot')\n",
    "\n",
    "%matplotlib notebook"
   ]
  },
  {
   "cell_type": "code",
   "execution_count": 2,
   "metadata": {
    "collapsed": false
   },
   "outputs": [],
   "source": [
    "def restore_emb(config, train_dir):\n",
    "    print 'Restoring graph...',\n",
    "    with tf.Graph().as_default():\n",
    "        with tf.variable_scope('cnn'):\n",
    "            if config.has_key('contextwise') and config['contextwise']:\n",
    "                import cnn_context\n",
    "                m = cnn_context.Model(config, is_train=False)\n",
    "            else:\n",
    "                import cnn\n",
    "                m = cnn.Model(config, is_train=False)\n",
    "        saver = tf.train.Saver(tf.all_variables())\n",
    "\n",
    "        with tf.Session() as sess:\n",
    "            ckpt = tf.train.get_checkpoint_state(train_dir)\n",
    "            saver.restore(sess, ckpt.model_checkpoint_path)\n",
    "\n",
    "            embeddings = sess.run(tf.all_variables())[0]\n",
    "    print 'done.'\n",
    "    return embeddings"
   ]
  },
  {
   "cell_type": "code",
   "execution_count": 7,
   "metadata": {
    "collapsed": false
   },
   "outputs": [],
   "source": [
    "def get_2d_emb(embeddings, limit=5000):\n",
    "    print 'Reducing dimension...',\n",
    "    embeddings = embeddings[:limit]\n",
    "    norm = np.sqrt(np.sum(np.square(embeddings), axis=0))\n",
    "    normalized_embeddings = embeddings / norm\n",
    "    tsne = TSNE(perplexity=30, n_components=2, init='pca', n_iter=5000)\n",
    "    two_d_embeddings = tsne.fit_transform(normalized_embeddings)\n",
    "    print 'done.'\n",
    "    return two_d_embeddings"
   ]
  },
  {
   "cell_type": "code",
   "execution_count": 4,
   "metadata": {
    "collapsed": false
   },
   "outputs": [],
   "source": [
    "def construct_emb_df(data_dir, two_d_embeddings):\n",
    "    print 'Restoring vocabulary...',\n",
    "    vocab_path = os.path.join(data_dir, 'vocab.txt')\n",
    "    word2id, _ = util.initialize_vocabulary(vocab_path)\n",
    "    word = pd.DataFrame({'word': word2id.keys()}, index=word2id.values())\n",
    "    values = pd.DataFrame(two_d_embeddings, columns=['x', 'y'])\n",
    "    emb_df = pd.concat([word, values], axis=1)\n",
    "    print 'done.'\n",
    "    return emb_df"
   ]
  },
  {
   "cell_type": "code",
   "execution_count": 12,
   "metadata": {
    "collapsed": false
   },
   "outputs": [],
   "source": [
    "def merge_id(emb_df):\n",
    "    print 'Merging ids...',\n",
    "    positive_df = pd.read_csv(os.path.join(data_dir, '..', 'positive_relations.tsv'),\n",
    "                           sep='\\t', index_col=0, encoding='utf-8')\n",
    "    subj = positive_df[['subj', 'subj_qid']].rename_axis(\n",
    "        {\"subj\": \"entity\", \"subj_qid\": \"id\"}, axis=\"columns\")\n",
    "    obj = positive_df[['obj', 'obj_qid']].rename_axis(\n",
    "        {\"obj\": \"entity\", \"obj_qid\": \"id\"}, axis=\"columns\")\n",
    "    rel = positive_df[['rel', 'rel_id']].rename_axis(\n",
    "        {\"rel_id\": \"id\"}, axis=\"columns\")\n",
    "    entity = pd.concat([subj, obj, rel], axis=0, ignore_index=True)\n",
    "    entity['word'] = ['<'+w.lower()+'>' for w in entity['id']]\n",
    "    entity = entity.drop_duplicates('word')\n",
    "    merge_emb_df = emb_df.merge(entity[['entity', 'rel', 'word']], how='outer', on='word')\n",
    "    print 'done.'\n",
    "    return merge_emb_df"
   ]
  },
  {
   "cell_type": "code",
   "execution_count": 10,
   "metadata": {
    "collapsed": false
   },
   "outputs": [
    {
     "name": "stdout",
     "output_type": "stream",
     "text": [
      "Merging ids... done.\n"
     ]
    }
   ],
   "source": [
    "train_dir = os.path.join(os.getcwd(), 'train', '1474062134')\n",
    "config = util.load_from_dump(os.path.join(train_dir, 'flags.cPickle'))\n",
    "data_dir = config['data_dir']\n",
    "\n",
    "embeddings = restore_emb(config, train_dir)\n",
    "two_d_embeddings = get_2d_emb(embeddings, limit=5000)\n",
    "emb_df = construct_emb_df(data_dir, two_d_embeddings)\n",
    "merge_emb_df = merge_id(emb_df)"
   ]
  },
  {
   "cell_type": "code",
   "execution_count": 13,
   "metadata": {
    "collapsed": false
   },
   "outputs": [
    {
     "name": "stdout",
     "output_type": "stream",
     "text": [
      "Merging ids... done.\n"
     ]
    },
    {
     "data": {
      "text/html": [
       "<div>\n",
       "<table border=\"1\" class=\"dataframe\">\n",
       "  <thead>\n",
       "    <tr style=\"text-align: right;\">\n",
       "      <th></th>\n",
       "      <th>word</th>\n",
       "      <th>x</th>\n",
       "      <th>y</th>\n",
       "      <th>entity</th>\n",
       "      <th>rel</th>\n",
       "    </tr>\n",
       "  </thead>\n",
       "  <tbody>\n",
       "    <tr>\n",
       "      <th>0</th>\n",
       "      <td>&lt;pad&gt;</td>\n",
       "      <td>-7.750008</td>\n",
       "      <td>12.951242</td>\n",
       "      <td>NaN</td>\n",
       "      <td>NaN</td>\n",
       "    </tr>\n",
       "    <tr>\n",
       "      <th>1</th>\n",
       "      <td>&lt;unk&gt;</td>\n",
       "      <td>-2.388376</td>\n",
       "      <td>4.990622</td>\n",
       "      <td>NaN</td>\n",
       "      <td>NaN</td>\n",
       "    </tr>\n",
       "    <tr>\n",
       "      <th>2</th>\n",
       "      <td>,</td>\n",
       "      <td>1.291499</td>\n",
       "      <td>0.967199</td>\n",
       "      <td>NaN</td>\n",
       "      <td>NaN</td>\n",
       "    </tr>\n",
       "    <tr>\n",
       "      <th>3</th>\n",
       "      <td>the</td>\n",
       "      <td>-0.284790</td>\n",
       "      <td>0.974413</td>\n",
       "      <td>NaN</td>\n",
       "      <td>NaN</td>\n",
       "    </tr>\n",
       "    <tr>\n",
       "      <th>4</th>\n",
       "      <td>in</td>\n",
       "      <td>-1.644315</td>\n",
       "      <td>1.269674</td>\n",
       "      <td>NaN</td>\n",
       "      <td>NaN</td>\n",
       "    </tr>\n",
       "  </tbody>\n",
       "</table>\n",
       "</div>"
      ],
      "text/plain": [
       "    word         x          y entity  rel\n",
       "0  <pad> -7.750008  12.951242    NaN  NaN\n",
       "1  <unk> -2.388376   4.990622    NaN  NaN\n",
       "2      ,  1.291499   0.967199    NaN  NaN\n",
       "3    the -0.284790   0.974413    NaN  NaN\n",
       "4     in -1.644315   1.269674    NaN  NaN"
      ]
     },
     "execution_count": 13,
     "metadata": {},
     "output_type": "execute_result"
    }
   ],
   "source": [
    "merge_emb_df = merge_id(emb_df)\n",
    "merge_emb_df.head()"
   ]
  },
  {
   "cell_type": "code",
   "execution_count": null,
   "metadata": {
    "collapsed": false,
    "scrolled": false
   },
   "outputs": [],
   "source": [
    "ax = merge_emb_df[pd.isnull(merge_emb_df.entity)].plot(kind=\"scatter\", \n",
    "        x='x', y='y', color='red', legend=True, label='words')\n",
    "ax = merge_emb_df[pd.notnull(merge_emb_df.entity)].plot(kind=\"scatter\", \n",
    "        x='x', y='y', color='blue', ax=ax, legend=True, label='entities')\n",
    "# annotate labels\n",
    "for index, row in merge_emb_df[pd.notnull(merge_emb_df.entity)].iterrows():\n",
    "    ax.annotate(row['entity'], xy=(row['x'], row['y']))\n",
    "ax.set_xlabel('')\n",
    "ax.set_ylabel('')\n",
    "ax.set_title('Embeddings')\n",
    "\n",
    "#fig = ax.get_figure()\n",
    "#fig.savefig('emb.svg')"
   ]
  },
  {
   "cell_type": "code",
   "execution_count": null,
   "metadata": {
    "collapsed": true
   },
   "outputs": [],
   "source": []
  },
  {
   "cell_type": "code",
   "execution_count": null,
   "metadata": {
    "collapsed": true
   },
   "outputs": [],
   "source": []
  }
 ],
 "metadata": {
  "kernelspec": {
   "display_name": "Python 2",
   "language": "python",
   "name": "python2"
  },
  "language_info": {
   "codemirror_mode": {
    "name": "ipython",
    "version": 2
   },
   "file_extension": ".py",
   "mimetype": "text/x-python",
   "name": "python",
   "nbconvert_exporter": "python",
   "pygments_lexer": "ipython2",
   "version": "2.7.12"
  }
 },
 "nbformat": 4,
 "nbformat_minor": 0
}
